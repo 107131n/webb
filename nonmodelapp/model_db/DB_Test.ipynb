{
 "cells": [
  {
   "cell_type": "markdown",
   "id": "8e534a79",
   "metadata": {},
   "source": [
    "### 데이터베이스 테스트"
   ]
  },
  {
   "cell_type": "code",
   "execution_count": 24,
   "id": "2f649cd1",
   "metadata": {},
   "outputs": [
    {
     "data": {
      "text/plain": [
       "'\\n<DB 접속 및 사용 순서>\\n1. DB 드라이버 연결\\n2. DB Connection 접속\\n3. 커서 받아오기\\n4. SQL 구문 작성 및 실행 요청(커서가 처리함)\\n5. 결과 출력을 위한 프로그래밍\\n6. 커서 반환 > DB Connection 접속 해제\\n'"
      ]
     },
     "execution_count": 24,
     "metadata": {},
     "output_type": "execute_result"
    }
   ],
   "source": [
    "\"\"\"\n",
    "<DB 접속 및 사용 순서>\n",
    "1. DB 드라이버 연결\n",
    "2. DB Connection 접속\n",
    "3. 커서 받아오기\n",
    "4. SQL 구문 작성 및 실행 요청(커서가 처리함)\n",
    "5. 결과 출력을 위한 프로그래밍\n",
    "6. 커서 반환 > DB Connection 접속 해제\n",
    "\"\"\""
   ]
  },
  {
   "cell_type": "code",
   "execution_count": 25,
   "id": "0ec27a9f",
   "metadata": {},
   "outputs": [],
   "source": [
    "### 오라클 라이브러리 불러들이기\n",
    "import cx_Oracle"
   ]
  },
  {
   "cell_type": "markdown",
   "id": "007ec9da",
   "metadata": {},
   "source": [
    "### 1. DB 드라이버 연결하기(서버 찾아가기)"
   ]
  },
  {
   "cell_type": "code",
   "execution_count": 26,
   "id": "fca2863a",
   "metadata": {},
   "outputs": [],
   "source": [
    "dsn = cx_Oracle.makedsn(\"localhost\",1521 ,\"xe\")"
   ]
  },
  {
   "cell_type": "markdown",
   "id": "bdf4b360",
   "metadata": {},
   "source": [
    "### 2. DB 접속(connect)하기(통로 만들기)"
   ]
  },
  {
   "cell_type": "code",
   "execution_count": 27,
   "id": "6a0c0158",
   "metadata": {},
   "outputs": [],
   "source": [
    "conn = cx_Oracle.connect(\"gwangju_a\",\"dbdb\",dsn)"
   ]
  },
  {
   "cell_type": "markdown",
   "id": "2eb7ca5e",
   "metadata": {},
   "source": [
    "### 3. 커서(cursor) 받아 오기(서버로 SQL 구문을 실어 나르고, 결과 받아 오는 역할)"
   ]
  },
  {
   "cell_type": "code",
   "execution_count": 28,
   "id": "393eb477",
   "metadata": {},
   "outputs": [],
   "source": [
    "cursor = conn.cursor()"
   ]
  },
  {
   "cell_type": "markdown",
   "id": "06a95780",
   "metadata": {},
   "source": [
    "### 4. SQL 구문 작성 및 실행 요청(커서가 처리)"
   ]
  },
  {
   "cell_type": "code",
   "execution_count": 29,
   "id": "89b3ffd4",
   "metadata": {},
   "outputs": [],
   "source": [
    "### SQL 요청 구문 작성하기\n",
    "# 회원 정보에서 회원 아이디, 회원 이름, 회원 주소1 조회하기\n",
    "# 회원 이름을 기준으로 오름차순 정렬\n",
    "sql = \"\"\"\n",
    "    Select mem_id, mem_name, mem_add1\n",
    "    From Member\n",
    "    Order By mem_name ASC\n",
    "\"\"\""
   ]
  },
  {
   "cell_type": "code",
   "execution_count": 30,
   "id": "31bacd10",
   "metadata": {},
   "outputs": [
    {
     "data": {
      "text/plain": [
       "<cx_Oracle.Cursor on <cx_Oracle.Connection to gwangju_a@(DESCRIPTION=(ADDRESS=(PROTOCOL=TCP)(HOST=localhost)(PORT=1521))(CONNECT_DATA=(SID=xe)))>>"
      ]
     },
     "execution_count": 30,
     "metadata": {},
     "output_type": "execute_result"
    }
   ],
   "source": [
    "### 구문을 서버에 보내서 요청하고, 결과를 받아오기 -> 커서가 수행함\n",
    "cursor.execute(sql)"
   ]
  },
  {
   "cell_type": "markdown",
   "id": "3b48773b",
   "metadata": {},
   "source": [
    "### 5. 결과 출력을 위한 프로그래밍"
   ]
  },
  {
   "cell_type": "code",
   "execution_count": 31,
   "id": "10dc34ff",
   "metadata": {},
   "outputs": [],
   "source": [
    "### 커서가 DB 서버로부터 받아 온 결과값 추출하기\n",
    "# - 여러 건 조회: fetchall()\n",
    "# - 한 건 조회: fetchone()\n",
    "rows = cursor.fetchall()"
   ]
  },
  {
   "cell_type": "code",
   "execution_count": 32,
   "id": "0755d70a",
   "metadata": {},
   "outputs": [
    {
     "data": {
      "text/plain": [
       "[('l001', '구길동', '충남금산군 금산읍'),\n",
       " ('u001', '김성욱', '대전시 동구 용전동'),\n",
       " ('j001', '김윤희', '대전시 서구 삼천동'),\n",
       " ('a001', '김은대', '캘리포니아'),\n",
       " ('w001', '김형모', '대전시 대덕구 연축동'),\n",
       " ('h001', '라준호', '충남 논산시 양촌면'),\n",
       " ('m001', '박지은', '대전광역시 서구 갈마동'),\n",
       " ('o001', '배인정', '대전시 서구 갈마동'),\n",
       " ('t001', '성원태', '대전광역시 중구 유천동'),\n",
       " ('d001', '성윤미', '대전시 중구 하늘동 '),\n",
       " ('g001', '송경희', '충남금산군 제원면'),\n",
       " ('f001', '신영남', '대전광역시 대흥동'),\n",
       " ('c001', '신용환', '대전광역시 중구 대흥동'),\n",
       " ('s001', '안은정', '대구광역시 서구 탄방동'),\n",
       " ('p001', '오성순', '대전유성구송강동'),\n",
       " ('k001', '오철희', '대전시 대덕구 대화동'),\n",
       " ('q001', '육평회', '대구광역시 대덕구 중리동'),\n",
       " ('b001', '이쁜이', '사과'),\n",
       " ('v001', '이진영', '대전시 동구 용전동'),\n",
       " ('e001', '이혜나', '대전시 대덕구 읍내동'),\n",
       " ('r001', '정은실', '대전시 동구 용전동'),\n",
       " ('x001', '진현경', '대전광역시 동구 오정동'),\n",
       " ('i001', '최지현', '대전시 동구 가양1동'),\n",
       " ('n001', '탁원재', '대전시 동구 자양동')]"
      ]
     },
     "execution_count": 32,
     "metadata": {},
     "output_type": "execute_result"
    }
   ],
   "source": [
    "rows"
   ]
  },
  {
   "cell_type": "code",
   "execution_count": 33,
   "id": "c898c330",
   "metadata": {},
   "outputs": [],
   "source": [
    "### 조회 결과에 대한 컬럼명만 조회하기(커서가 가지고 있음)\n",
    "colname = cursor.description"
   ]
  },
  {
   "cell_type": "code",
   "execution_count": 34,
   "id": "1d95e0cf",
   "metadata": {},
   "outputs": [
    {
     "data": {
      "text/plain": [
       "[('MEM_ID', <cx_Oracle.DbType DB_TYPE_VARCHAR>, 15, 15, None, None, 0),\n",
       " ('MEM_NAME', <cx_Oracle.DbType DB_TYPE_VARCHAR>, 20, 20, None, None, 0),\n",
       " ('MEM_ADD1', <cx_Oracle.DbType DB_TYPE_VARCHAR>, 100, 100, None, None, 0)]"
      ]
     },
     "execution_count": 34,
     "metadata": {},
     "output_type": "execute_result"
    }
   ],
   "source": [
    "### 데이터 베이스에서 조회한 결과의 컬럼명은 모두 대문자\n",
    "# - 프로그램에서 사용할 때는 소문자로 바꿔서 사용\n",
    "colname"
   ]
  },
  {
   "cell_type": "code",
   "execution_count": 36,
   "id": "24abfa3e",
   "metadata": {},
   "outputs": [
    {
     "data": {
      "text/plain": [
       "['mem_id', 'mem_name', 'mem_add1']"
      ]
     },
     "execution_count": 36,
     "metadata": {},
     "output_type": "execute_result"
    }
   ],
   "source": [
    "### 컬럼명만 추출하여 col =[] 변수에 담기\n",
    "# 추출한 컬럼명은 소문자로  변환해서 col 리스트 변수에 담기\n",
    "\n",
    "# for 문 안에서 값을 담아 누적하기 위해 전역 변수로 선언\n",
    "col = []\n",
    "for t in colname:\n",
    "    # col 리스트 변수에 값을 추가하기: append(값) 사용\n",
    "    col.append(t[0].lower())\n",
    "col"
   ]
  },
  {
   "cell_type": "code",
   "execution_count": 46,
   "id": "00cb4ee1",
   "metadata": {},
   "outputs": [
    {
     "data": {
      "text/plain": [
       "[{'mem_id': 'l001', 'mem_name': '구길동', 'mem_add1': '충남금산군 금산읍'},\n",
       " {'mem_id': 'u001', 'mem_name': '김성욱', 'mem_add1': '대전시 동구 용전동'},\n",
       " {'mem_id': 'j001', 'mem_name': '김윤희', 'mem_add1': '대전시 서구 삼천동'},\n",
       " {'mem_id': 'a001', 'mem_name': '김은대', 'mem_add1': '캘리포니아'},\n",
       " {'mem_id': 'w001', 'mem_name': '김형모', 'mem_add1': '대전시 대덕구 연축동'},\n",
       " {'mem_id': 'h001', 'mem_name': '라준호', 'mem_add1': '충남 논산시 양촌면'},\n",
       " {'mem_id': 'm001', 'mem_name': '박지은', 'mem_add1': '대전광역시 서구 갈마동'},\n",
       " {'mem_id': 'o001', 'mem_name': '배인정', 'mem_add1': '대전시 서구 갈마동'},\n",
       " {'mem_id': 't001', 'mem_name': '성원태', 'mem_add1': '대전광역시 중구 유천동'},\n",
       " {'mem_id': 'd001', 'mem_name': '성윤미', 'mem_add1': '대전시 중구 하늘동 '},\n",
       " {'mem_id': 'g001', 'mem_name': '송경희', 'mem_add1': '충남금산군 제원면'},\n",
       " {'mem_id': 'f001', 'mem_name': '신영남', 'mem_add1': '대전광역시 대흥동'},\n",
       " {'mem_id': 'c001', 'mem_name': '신용환', 'mem_add1': '대전광역시 중구 대흥동'},\n",
       " {'mem_id': 's001', 'mem_name': '안은정', 'mem_add1': '대구광역시 서구 탄방동'},\n",
       " {'mem_id': 'p001', 'mem_name': '오성순', 'mem_add1': '대전유성구송강동'},\n",
       " {'mem_id': 'k001', 'mem_name': '오철희', 'mem_add1': '대전시 대덕구 대화동'},\n",
       " {'mem_id': 'q001', 'mem_name': '육평회', 'mem_add1': '대구광역시 대덕구 중리동'},\n",
       " {'mem_id': 'b001', 'mem_name': '이쁜이', 'mem_add1': '사과'},\n",
       " {'mem_id': 'v001', 'mem_name': '이진영', 'mem_add1': '대전시 동구 용전동'},\n",
       " {'mem_id': 'e001', 'mem_name': '이혜나', 'mem_add1': '대전시 대덕구 읍내동'},\n",
       " {'mem_id': 'r001', 'mem_name': '정은실', 'mem_add1': '대전시 동구 용전동'},\n",
       " {'mem_id': 'x001', 'mem_name': '진현경', 'mem_add1': '대전광역시 동구 오정동'},\n",
       " {'mem_id': 'i001', 'mem_name': '최지현', 'mem_add1': '대전시 동구 가양1동'},\n",
       " {'mem_id': 'n001', 'mem_name': '탁원재', 'mem_add1': '대전시 동구 자양동'}]"
      ]
     },
     "execution_count": 46,
     "metadata": {},
     "output_type": "execute_result"
    }
   ],
   "source": [
    "### html에서 사용할 수 있도록 하기 위해서\n",
    "# - [{\"mem_id\" : \"a001\", \"mem_name\" : \"asdfasdf\", \"mem_add1\": \"광주...\"},\n",
    "#   {\"mem_id\" : \"b001\", \"mem_name\" : \"asdf\", \"mem_add1\": \"서울...\"},\n",
    "#   {}, {}] 형태로 변환하기\n",
    "# - 최종 결과값을 담을 변수명: list_row\n",
    "list_row = []\n",
    "for t in rows:\n",
    "    dict_temp = {}\n",
    "    for i in range(0, len(col),1):\n",
    "        # print(col[i], t[i])\n",
    "        dict_temp[col[i]] = t[i]\n",
    "    list_row.append(dict_temp)\n",
    "list_row"
   ]
  },
  {
   "cell_type": "code",
   "execution_count": 50,
   "id": "f0f75cdb",
   "metadata": {},
   "outputs": [],
   "source": [
    "### 회원 정보에서 회원 아이디가 'a001'에 대한 회원 아이디, 회원 이름, 회원 주소1 조회하기\n",
    "# --> 한 건 조회\n",
    "sql = \"\"\"\n",
    "    Select mem_id, mem_name, mem_add1\n",
    "    From member\n",
    "    Where mem_id = 'a001'\n",
    "\"\"\""
   ]
  },
  {
   "cell_type": "code",
   "execution_count": 51,
   "id": "b90191a0",
   "metadata": {},
   "outputs": [
    {
     "data": {
      "text/plain": [
       "<cx_Oracle.Cursor on <cx_Oracle.Connection to gwangju_a@(DESCRIPTION=(ADDRESS=(PROTOCOL=TCP)(HOST=localhost)(PORT=1521))(CONNECT_DATA=(SID=xe)))>>"
      ]
     },
     "execution_count": 51,
     "metadata": {},
     "output_type": "execute_result"
    }
   ],
   "source": [
    "cursor.execute(sql)"
   ]
  },
  {
   "cell_type": "code",
   "execution_count": 52,
   "id": "9fbd4ffe",
   "metadata": {},
   "outputs": [],
   "source": [
    "row = cursor.fetchone()"
   ]
  },
  {
   "cell_type": "code",
   "execution_count": 53,
   "id": "0927cfc5",
   "metadata": {},
   "outputs": [
    {
     "data": {
      "text/plain": [
       "('a001', '김은대', '캘리포니아')"
      ]
     },
     "execution_count": 53,
     "metadata": {},
     "output_type": "execute_result"
    }
   ],
   "source": [
    "row"
   ]
  },
  {
   "cell_type": "code",
   "execution_count": 54,
   "id": "8f0b06f3",
   "metadata": {},
   "outputs": [],
   "source": [
    "colname = cursor.description"
   ]
  },
  {
   "cell_type": "code",
   "execution_count": 55,
   "id": "c86bec9f",
   "metadata": {},
   "outputs": [
    {
     "data": {
      "text/plain": [
       "[('MEM_ID', <cx_Oracle.DbType DB_TYPE_VARCHAR>, 15, 15, None, None, 0),\n",
       " ('MEM_NAME', <cx_Oracle.DbType DB_TYPE_VARCHAR>, 20, 20, None, None, 0),\n",
       " ('MEM_ADD1', <cx_Oracle.DbType DB_TYPE_VARCHAR>, 100, 100, None, None, 0)]"
      ]
     },
     "execution_count": 55,
     "metadata": {},
     "output_type": "execute_result"
    }
   ],
   "source": [
    "colname"
   ]
  },
  {
   "cell_type": "code",
   "execution_count": 71,
   "id": "ec23a92a",
   "metadata": {},
   "outputs": [
    {
     "data": {
      "text/plain": [
       "{'mem_id': 'a001', 'mem_name': '김은대', 'mem_add1': '캘리포니아'}"
      ]
     },
     "execution_count": 71,
     "metadata": {},
     "output_type": "execute_result"
    }
   ],
   "source": [
    "### 한 건 조회 결과를 딕셔너리 형태로 변환하기\n",
    "# 최종 변수 이름: dict_row\n",
    "### 컬럼명만 조회\n",
    "col = []\n",
    "for t in colname:\n",
    "    # col 리스트 변수에 값을 추가하기: append(값) 사용\n",
    "    col.append(t[0].lower())\n",
    "col\n",
    "\n",
    "### 딕셔너리로 변환\n",
    "dict_row = {}\n",
    "for i in range(0,len(col), 1):\n",
    "    dict_row[col[i]] = row[i]\n",
    "dict_row"
   ]
  },
  {
   "cell_type": "markdown",
   "id": "319698f6",
   "metadata": {},
   "source": [
    "### 함수로 기능 정의하기"
   ]
  },
  {
   "cell_type": "markdown",
   "id": "f2e0598f",
   "metadata": {},
   "source": [
    "##### - DB 접속 기능 함수 정의"
   ]
  },
  {
   "cell_type": "code",
   "execution_count": 76,
   "id": "7bb7e66e",
   "metadata": {},
   "outputs": [],
   "source": [
    "def getDBConn_Cursor():\n",
    "    dsn = cx_Oracle.makedsn(\"localhost\",1521 ,\"xe\")\n",
    "    conn = cx_Oracle.connect(\"gwangju_a\",\"dbdb\",dsn)\n",
    "    cursor = conn.cursor()\n",
    "    \n",
    "    return conn, cursor"
   ]
  },
  {
   "cell_type": "markdown",
   "id": "22123902",
   "metadata": {},
   "source": [
    "##### - 조회 결과에서 컬럼명 추출하기 기능 정의"
   ]
  },
  {
   "cell_type": "code",
   "execution_count": 78,
   "id": "8530f3b5",
   "metadata": {},
   "outputs": [],
   "source": [
    "def getColName(cursor):\n",
    "    col = []\n",
    "    for t in cursor.description:\n",
    "        col.append(t[0].lower())\n",
    "    return col"
   ]
  },
  {
   "cell_type": "markdown",
   "id": "3898d111",
   "metadata": {},
   "source": [
    "##### - \"한 건 조회\" 시 딕셔너리로 변환하는 기능 정의"
   ]
  },
  {
   "cell_type": "code",
   "execution_count": 80,
   "id": "93237801",
   "metadata": {},
   "outputs": [],
   "source": [
    "def getFetchOne(cursor, row):\n",
    "    # 컬럼명 조회 함수 호출\n",
    "    col = getColName(cursor)\n",
    "    \n",
    "    dict_row = {}\n",
    "    for i in range(0,len(col), 1):\n",
    "        dict_row[col[i]] = row[i]\n",
    "    \n",
    "    return dict_row"
   ]
  },
  {
   "cell_type": "markdown",
   "id": "03de3fe3",
   "metadata": {},
   "source": [
    "##### - \"여러 건 조회\" 시 딕셔너리로 변환하는 기능 정의"
   ]
  },
  {
   "cell_type": "code",
   "execution_count": 81,
   "id": "2f0c45d0",
   "metadata": {},
   "outputs": [],
   "source": [
    "def getFetchAll(cursor, rows):\n",
    "    \n",
    "    # 컬럼명 조회 함수 호출\n",
    "    col = getColName(cursor)\n",
    "    \n",
    "    list_row = []\n",
    "    for t in rows:\n",
    "        dict_temp = {}\n",
    "        for i in range(0, len(col),1):\n",
    "            # print(col[i], t[i])\n",
    "            dict_temp[col[i]] = t[i]\n",
    "        list_row.append(dict_temp)\n",
    "        \n",
    "    return list_row"
   ]
  },
  {
   "cell_type": "markdown",
   "id": "6ff7ee91",
   "metadata": {},
   "source": [
    "##### - 커서 및 connect 접속 해제하는 기능 정의"
   ]
  },
  {
   "cell_type": "code",
   "execution_count": 87,
   "id": "bd668ec7",
   "metadata": {},
   "outputs": [],
   "source": [
    "def DBClose(cursor, conn):\n",
    "    cursor.close()\n",
    "    conn.close()"
   ]
  },
  {
   "cell_type": "markdown",
   "id": "9d373ead",
   "metadata": {},
   "source": [
    "### 6. 커서 반환 > DB Connection 접속 해제"
   ]
  },
  {
   "cell_type": "code",
   "execution_count": 86,
   "id": "0da4d132",
   "metadata": {
    "scrolled": false
   },
   "outputs": [
    {
     "ename": "InterfaceError",
     "evalue": "not open",
     "output_type": "error",
     "traceback": [
      "\u001b[1;31m---------------------------------------------------------------------------\u001b[0m",
      "\u001b[1;31mInterfaceError\u001b[0m                            Traceback (most recent call last)",
      "Cell \u001b[1;32mIn[86], line 2\u001b[0m\n\u001b[0;32m      1\u001b[0m \u001b[38;5;66;03m### 커서(cursor) 반환하기\u001b[39;00m\n\u001b[1;32m----> 2\u001b[0m \u001b[43mcursor\u001b[49m\u001b[38;5;241;43m.\u001b[39;49m\u001b[43mclose\u001b[49m\u001b[43m(\u001b[49m\u001b[43m)\u001b[49m\n\u001b[0;32m      3\u001b[0m \u001b[38;5;66;03m### 접속(connect) 접속 해제\u001b[39;00m\n\u001b[0;32m      4\u001b[0m conn\u001b[38;5;241m.\u001b[39mclose()\n",
      "\u001b[1;31mInterfaceError\u001b[0m: not open"
     ]
    }
   ],
   "source": [
    "### 커서(cursor) 반환하기\n",
    "cursor.close()\n",
    "### 접속(connect) 접속 해제\n",
    "conn.close()"
   ]
  },
  {
   "cell_type": "markdown",
   "id": "11cf3b7d",
   "metadata": {},
   "source": [
    "### 함수 호출 방식으로 프로그래밍하기"
   ]
  },
  {
   "cell_type": "code",
   "execution_count": 97,
   "id": "e22c6846",
   "metadata": {},
   "outputs": [
    {
     "name": "stdout",
     "output_type": "stream",
     "text": [
      "{'mem_id': 'a001', 'mem_name': '김은대', 'mem_add1': '캘리포니아'}\n"
     ]
    }
   ],
   "source": [
    "### DB 접속 정보 받아오기\n",
    "conn, cursor = getDBConn_Cursor()\n",
    "\n",
    "### 구문 작성\n",
    "\"\"\"\n",
    "    Select mem_id, mem_name, mem_add1\n",
    "    From member\n",
    "    Where mem_id = 'a001'\n",
    "\"\"\"\n",
    "\n",
    "### 구문 실행하기\n",
    "cursor.execute(sql)\n",
    "\n",
    "### 결과 추출하기\n",
    "row = cursor.fetchone()\n",
    "\n",
    "### 딕셔너리로 변경하기\n",
    "dict_row = getFetchOne(cursor, row)\n",
    "print(dict_row)\n",
    "\n",
    "### DB 접속 해제하기\n",
    "DBClose(cursor, conn)"
   ]
  },
  {
   "cell_type": "code",
   "execution_count": null,
   "id": "5dbb8b0f",
   "metadata": {},
   "outputs": [],
   "source": []
  },
  {
   "cell_type": "code",
   "execution_count": null,
   "id": "bd7a1071",
   "metadata": {},
   "outputs": [],
   "source": []
  },
  {
   "cell_type": "code",
   "execution_count": null,
   "id": "966f533d",
   "metadata": {},
   "outputs": [],
   "source": []
  },
  {
   "cell_type": "code",
   "execution_count": null,
   "id": "dcf7f609",
   "metadata": {},
   "outputs": [],
   "source": []
  },
  {
   "cell_type": "code",
   "execution_count": null,
   "id": "927a455d",
   "metadata": {},
   "outputs": [],
   "source": []
  },
  {
   "cell_type": "code",
   "execution_count": null,
   "id": "7c95ee8d",
   "metadata": {},
   "outputs": [],
   "source": []
  }
 ],
 "metadata": {
  "kernelspec": {
   "display_name": "gj_202304_kernel",
   "language": "python",
   "name": "gj_202304"
  },
  "language_info": {
   "codemirror_mode": {
    "name": "ipython",
    "version": 3
   },
   "file_extension": ".py",
   "mimetype": "text/x-python",
   "name": "python",
   "nbconvert_exporter": "python",
   "pygments_lexer": "ipython3",
   "version": "3.9.16"
  }
 },
 "nbformat": 4,
 "nbformat_minor": 5
}
