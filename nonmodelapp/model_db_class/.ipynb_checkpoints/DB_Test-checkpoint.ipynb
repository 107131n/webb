{
 "cells": [
  {
   "cell_type": "markdown",
   "id": "ea738b7c",
   "metadata": {},
   "source": [
    "### 데이터베이스 테스트"
   ]
  },
  {
   "cell_type": "code",
   "execution_count": null,
   "id": "539c8ea5",
   "metadata": {},
   "outputs": [],
   "source": [
    "\"\"\"\n",
    "<DB 접속 및 사용 순서>\n",
    "1. DB 드라이버 연결\n",
    "2. DB Connection 접속\n",
    "3. 커서 받아오기\n",
    "4. SQL 구문 작성 및 실행 요청(커서가 처리함)\n",
    "5. 결과 출력을 위한 프로그래밍\n",
    "6. 커서 반환 > DB Connection 접속 해제\n",
    "\"\"\""
   ]
  },
  {
   "cell_type": "code",
   "execution_count": 6,
   "id": "5ec2687d",
   "metadata": {},
   "outputs": [],
   "source": [
    "### 오라클 라이브러리 불러들이기\n",
    "import cx_Oracle"
   ]
  },
  {
   "cell_type": "markdown",
   "id": "998ddeeb",
   "metadata": {},
   "source": [
    "### 1. DB 드라이버 연결하기(서버 찾아가기)"
   ]
  },
  {
   "cell_type": "code",
   "execution_count": null,
   "id": "7d5d34e9",
   "metadata": {},
   "outputs": [],
   "source": []
  },
  {
   "cell_type": "markdown",
   "id": "91e49a86",
   "metadata": {},
   "source": [
    "### 2. DB 접속하기"
   ]
  },
  {
   "cell_type": "code",
   "execution_count": null,
   "id": "8e2593ee",
   "metadata": {},
   "outputs": [],
   "source": []
  }
 ],
 "metadata": {
  "kernelspec": {
   "display_name": "gj_202304_kernel",
   "language": "python",
   "name": "gj_202304"
  },
  "language_info": {
   "codemirror_mode": {
    "name": "ipython",
    "version": 3
   },
   "file_extension": ".py",
   "mimetype": "text/x-python",
   "name": "python",
   "nbconvert_exporter": "python",
   "pygments_lexer": "ipython3",
   "version": "3.9.16"
  }
 },
 "nbformat": 4,
 "nbformat_minor": 5
}
